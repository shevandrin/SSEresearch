{
  "nbformat": 4,
  "nbformat_minor": 0,
  "metadata": {
    "colab": {
      "provenance": [],
      "include_colab_link": true
    },
    "kernelspec": {
      "name": "python3",
      "display_name": "Python 3"
    },
    "language_info": {
      "name": "python"
    }
  },
  "cells": [
    {
      "cell_type": "markdown",
      "metadata": {
        "id": "view-in-github",
        "colab_type": "text"
      },
      "source": [
        "<a href=\"https://colab.research.google.com/github/shevandrin/SSEresearch/blob/main/ESE.ipynb\" target=\"_parent\"><img src=\"https://colab.research.google.com/assets/colab-badge.svg\" alt=\"Open In Colab\"/></a>"
      ]
    },
    {
      "cell_type": "markdown",
      "source": [
        "<h3> variables for research:</h3>\n",
        "\n",
        "|#|variable|code of variable|accessible|\n",
        "|-|--------|----------------|-|\n",
        "|1|language community|language|-|\n",
        "|2|type of error|error_type|-|\n",
        "|3|time stamp|time|+|\n",
        "|4|associated tags|tags|+|\n",
        "|5|number of comments|comments|+|\n",
        "|6|number of answers|answers|+|\n",
        "|7|numver of views|views|+|\n",
        "|8|number of votes|votes|+|\n",
        "|9|correctness of answer|<b><i>correctness</i></b>|+|\n",
        "|10|data of accquisitioin|<b><i>date</i></b>|-|\n",
        "\n",
        "<b><i>new variables that were not put in the first milestone report</i></b>\n",
        "\n",
        "types of error see here: https://www.tutorialsteacher.com/python/error-types-in-python\n",
        "\n",
        "Two phases algorithm:\n",
        "* 0. getting labels of Python errors\n",
        "* 1. collect questions id for each type of error (precise search phrase might look like 'title:\"AssertionError\" [Python] is:question')\n",
        "* 2. collect metadata from each error page (example of queston page url: https://stackoverflow.com/questions/11181519/)"
      ],
      "metadata": {
        "id": "f_-UajGspK1B"
      }
    },
    {
      "cell_type": "code",
      "execution_count": null,
      "metadata": {
        "id": "Z725_ZoVl1sK"
      },
      "outputs": [],
      "source": [
        "import requests\n",
        "from bs4 import BeautifulSoup\n",
        "import pandas as pd"
      ]
    },
    {
      "cell_type": "markdown",
      "source": [
        "<h3><span style=\"color:red\">Phase 0</span></h3>\n",
        "getting types of Python errors<br>\n",
        "<b>!!! the data is already got, this block can be missed</b>"
      ],
      "metadata": {
        "id": "HNIMiFk0JASE"
      }
    },
    {
      "cell_type": "code",
      "source": [
        "page_with_python_errors = \"https://www.tutorialsteacher.com/python/error-types-in-python\"\n",
        "res = requests.get(page_with_python_errors)\n",
        "soup = BeautifulSoup(res.text, \"html.parser\")"
      ],
      "metadata": {
        "id": "5IGdE4uLI_PN"
      },
      "execution_count": null,
      "outputs": []
    },
    {
      "cell_type": "code",
      "source": [
        "table_rows = soup.find_all(\"tr\")\n",
        "l = []\n",
        "for row in table_rows[1:]:\n",
        "  cell = row.find_all(\"td\")\n",
        "  result = {}\n",
        "  result['code_error'] =  cell[0].text.strip()\n",
        "  result['description'] = cell[1].text.strip()\n",
        "  l.append(result)\n",
        "df = pd.DataFrame.from_dict(l)\n",
        "df.to_csv(\"python_error_types.csv\")\n",
        "df.head()"
      ],
      "metadata": {
        "colab": {
          "base_uri": "https://localhost:8080/",
          "height": 206
        },
        "id": "RGgPChMAKBF9",
        "outputId": "4e71a0ea-bdab-4fa0-d829-818eef4f9258"
      },
      "execution_count": null,
      "outputs": [
        {
          "output_type": "execute_result",
          "data": {
            "text/plain": [
              "           code_error                                        description\n",
              "0      AssertionError            Raised when the assert statement fails.\n",
              "1      AttributeError  Raised on the attribute assignment or referenc...\n",
              "2            EOFError  Raised when the input() function hits the end-...\n",
              "3  FloatingPointError      Raised when a floating point operation fails.\n",
              "4       GeneratorExit  Raised when a generator's close() method is ca..."
            ],
            "text/html": [
              "\n",
              "  <div id=\"df-ff9cbd8b-59c7-4a95-b3dc-3aa8d214b462\">\n",
              "    <div class=\"colab-df-container\">\n",
              "      <div>\n",
              "<style scoped>\n",
              "    .dataframe tbody tr th:only-of-type {\n",
              "        vertical-align: middle;\n",
              "    }\n",
              "\n",
              "    .dataframe tbody tr th {\n",
              "        vertical-align: top;\n",
              "    }\n",
              "\n",
              "    .dataframe thead th {\n",
              "        text-align: right;\n",
              "    }\n",
              "</style>\n",
              "<table border=\"1\" class=\"dataframe\">\n",
              "  <thead>\n",
              "    <tr style=\"text-align: right;\">\n",
              "      <th></th>\n",
              "      <th>code_error</th>\n",
              "      <th>description</th>\n",
              "    </tr>\n",
              "  </thead>\n",
              "  <tbody>\n",
              "    <tr>\n",
              "      <th>0</th>\n",
              "      <td>AssertionError</td>\n",
              "      <td>Raised when the assert statement fails.</td>\n",
              "    </tr>\n",
              "    <tr>\n",
              "      <th>1</th>\n",
              "      <td>AttributeError</td>\n",
              "      <td>Raised on the attribute assignment or referenc...</td>\n",
              "    </tr>\n",
              "    <tr>\n",
              "      <th>2</th>\n",
              "      <td>EOFError</td>\n",
              "      <td>Raised when the input() function hits the end-...</td>\n",
              "    </tr>\n",
              "    <tr>\n",
              "      <th>3</th>\n",
              "      <td>FloatingPointError</td>\n",
              "      <td>Raised when a floating point operation fails.</td>\n",
              "    </tr>\n",
              "    <tr>\n",
              "      <th>4</th>\n",
              "      <td>GeneratorExit</td>\n",
              "      <td>Raised when a generator's close() method is ca...</td>\n",
              "    </tr>\n",
              "  </tbody>\n",
              "</table>\n",
              "</div>\n",
              "      <button class=\"colab-df-convert\" onclick=\"convertToInteractive('df-ff9cbd8b-59c7-4a95-b3dc-3aa8d214b462')\"\n",
              "              title=\"Convert this dataframe to an interactive table.\"\n",
              "              style=\"display:none;\">\n",
              "        \n",
              "  <svg xmlns=\"http://www.w3.org/2000/svg\" height=\"24px\"viewBox=\"0 0 24 24\"\n",
              "       width=\"24px\">\n",
              "    <path d=\"M0 0h24v24H0V0z\" fill=\"none\"/>\n",
              "    <path d=\"M18.56 5.44l.94 2.06.94-2.06 2.06-.94-2.06-.94-.94-2.06-.94 2.06-2.06.94zm-11 1L8.5 8.5l.94-2.06 2.06-.94-2.06-.94L8.5 2.5l-.94 2.06-2.06.94zm10 10l.94 2.06.94-2.06 2.06-.94-2.06-.94-.94-2.06-.94 2.06-2.06.94z\"/><path d=\"M17.41 7.96l-1.37-1.37c-.4-.4-.92-.59-1.43-.59-.52 0-1.04.2-1.43.59L10.3 9.45l-7.72 7.72c-.78.78-.78 2.05 0 2.83L4 21.41c.39.39.9.59 1.41.59.51 0 1.02-.2 1.41-.59l7.78-7.78 2.81-2.81c.8-.78.8-2.07 0-2.86zM5.41 20L4 18.59l7.72-7.72 1.47 1.35L5.41 20z\"/>\n",
              "  </svg>\n",
              "      </button>\n",
              "      \n",
              "  <style>\n",
              "    .colab-df-container {\n",
              "      display:flex;\n",
              "      flex-wrap:wrap;\n",
              "      gap: 12px;\n",
              "    }\n",
              "\n",
              "    .colab-df-convert {\n",
              "      background-color: #E8F0FE;\n",
              "      border: none;\n",
              "      border-radius: 50%;\n",
              "      cursor: pointer;\n",
              "      display: none;\n",
              "      fill: #1967D2;\n",
              "      height: 32px;\n",
              "      padding: 0 0 0 0;\n",
              "      width: 32px;\n",
              "    }\n",
              "\n",
              "    .colab-df-convert:hover {\n",
              "      background-color: #E2EBFA;\n",
              "      box-shadow: 0px 1px 2px rgba(60, 64, 67, 0.3), 0px 1px 3px 1px rgba(60, 64, 67, 0.15);\n",
              "      fill: #174EA6;\n",
              "    }\n",
              "\n",
              "    [theme=dark] .colab-df-convert {\n",
              "      background-color: #3B4455;\n",
              "      fill: #D2E3FC;\n",
              "    }\n",
              "\n",
              "    [theme=dark] .colab-df-convert:hover {\n",
              "      background-color: #434B5C;\n",
              "      box-shadow: 0px 1px 3px 1px rgba(0, 0, 0, 0.15);\n",
              "      filter: drop-shadow(0px 1px 2px rgba(0, 0, 0, 0.3));\n",
              "      fill: #FFFFFF;\n",
              "    }\n",
              "  </style>\n",
              "\n",
              "      <script>\n",
              "        const buttonEl =\n",
              "          document.querySelector('#df-ff9cbd8b-59c7-4a95-b3dc-3aa8d214b462 button.colab-df-convert');\n",
              "        buttonEl.style.display =\n",
              "          google.colab.kernel.accessAllowed ? 'block' : 'none';\n",
              "\n",
              "        async function convertToInteractive(key) {\n",
              "          const element = document.querySelector('#df-ff9cbd8b-59c7-4a95-b3dc-3aa8d214b462');\n",
              "          const dataTable =\n",
              "            await google.colab.kernel.invokeFunction('convertToInteractive',\n",
              "                                                     [key], {});\n",
              "          if (!dataTable) return;\n",
              "\n",
              "          const docLinkHtml = 'Like what you see? Visit the ' +\n",
              "            '<a target=\"_blank\" href=https://colab.research.google.com/notebooks/data_table.ipynb>data table notebook</a>'\n",
              "            + ' to learn more about interactive tables.';\n",
              "          element.innerHTML = '';\n",
              "          dataTable['output_type'] = 'display_data';\n",
              "          await google.colab.output.renderOutput(dataTable, element);\n",
              "          const docLink = document.createElement('div');\n",
              "          docLink.innerHTML = docLinkHtml;\n",
              "          element.appendChild(docLink);\n",
              "        }\n",
              "      </script>\n",
              "    </div>\n",
              "  </div>\n",
              "  "
            ]
          },
          "metadata": {},
          "execution_count": 12
        }
      ]
    },
    {
      "cell_type": "markdown",
      "source": [
        "Now types of python errors are accessible from here:"
      ],
      "metadata": {
        "id": "WDWUGI0I1QtP"
      }
    },
    {
      "cell_type": "code",
      "source": [
        "url = 'https://raw.githubusercontent.com/bondarenko-petr/ewe2/main/python_error_types.csv'\n",
        "df1 = pd.read_csv(url)\n",
        "df1.head(2)"
      ],
      "metadata": {
        "id": "DN-C_flJvH5m",
        "colab": {
          "base_uri": "https://localhost:8080/",
          "height": 112
        },
        "outputId": "1f65d415-e2cf-4552-a1eb-40eddbc00a03"
      },
      "execution_count": null,
      "outputs": [
        {
          "output_type": "execute_result",
          "data": {
            "text/plain": [
              "   Unnamed: 0      code_error  \\\n",
              "0           0  AssertionError   \n",
              "1           1  AttributeError   \n",
              "\n",
              "                                         description  \n",
              "0            Raised when the assert statement fails.  \n",
              "1  Raised on the attribute assignment or referenc...  "
            ],
            "text/html": [
              "\n",
              "  <div id=\"df-703cbabb-3a0a-4228-9b60-8bd083df779a\">\n",
              "    <div class=\"colab-df-container\">\n",
              "      <div>\n",
              "<style scoped>\n",
              "    .dataframe tbody tr th:only-of-type {\n",
              "        vertical-align: middle;\n",
              "    }\n",
              "\n",
              "    .dataframe tbody tr th {\n",
              "        vertical-align: top;\n",
              "    }\n",
              "\n",
              "    .dataframe thead th {\n",
              "        text-align: right;\n",
              "    }\n",
              "</style>\n",
              "<table border=\"1\" class=\"dataframe\">\n",
              "  <thead>\n",
              "    <tr style=\"text-align: right;\">\n",
              "      <th></th>\n",
              "      <th>Unnamed: 0</th>\n",
              "      <th>code_error</th>\n",
              "      <th>description</th>\n",
              "    </tr>\n",
              "  </thead>\n",
              "  <tbody>\n",
              "    <tr>\n",
              "      <th>0</th>\n",
              "      <td>0</td>\n",
              "      <td>AssertionError</td>\n",
              "      <td>Raised when the assert statement fails.</td>\n",
              "    </tr>\n",
              "    <tr>\n",
              "      <th>1</th>\n",
              "      <td>1</td>\n",
              "      <td>AttributeError</td>\n",
              "      <td>Raised on the attribute assignment or referenc...</td>\n",
              "    </tr>\n",
              "  </tbody>\n",
              "</table>\n",
              "</div>\n",
              "      <button class=\"colab-df-convert\" onclick=\"convertToInteractive('df-703cbabb-3a0a-4228-9b60-8bd083df779a')\"\n",
              "              title=\"Convert this dataframe to an interactive table.\"\n",
              "              style=\"display:none;\">\n",
              "        \n",
              "  <svg xmlns=\"http://www.w3.org/2000/svg\" height=\"24px\"viewBox=\"0 0 24 24\"\n",
              "       width=\"24px\">\n",
              "    <path d=\"M0 0h24v24H0V0z\" fill=\"none\"/>\n",
              "    <path d=\"M18.56 5.44l.94 2.06.94-2.06 2.06-.94-2.06-.94-.94-2.06-.94 2.06-2.06.94zm-11 1L8.5 8.5l.94-2.06 2.06-.94-2.06-.94L8.5 2.5l-.94 2.06-2.06.94zm10 10l.94 2.06.94-2.06 2.06-.94-2.06-.94-.94-2.06-.94 2.06-2.06.94z\"/><path d=\"M17.41 7.96l-1.37-1.37c-.4-.4-.92-.59-1.43-.59-.52 0-1.04.2-1.43.59L10.3 9.45l-7.72 7.72c-.78.78-.78 2.05 0 2.83L4 21.41c.39.39.9.59 1.41.59.51 0 1.02-.2 1.41-.59l7.78-7.78 2.81-2.81c.8-.78.8-2.07 0-2.86zM5.41 20L4 18.59l7.72-7.72 1.47 1.35L5.41 20z\"/>\n",
              "  </svg>\n",
              "      </button>\n",
              "      \n",
              "  <style>\n",
              "    .colab-df-container {\n",
              "      display:flex;\n",
              "      flex-wrap:wrap;\n",
              "      gap: 12px;\n",
              "    }\n",
              "\n",
              "    .colab-df-convert {\n",
              "      background-color: #E8F0FE;\n",
              "      border: none;\n",
              "      border-radius: 50%;\n",
              "      cursor: pointer;\n",
              "      display: none;\n",
              "      fill: #1967D2;\n",
              "      height: 32px;\n",
              "      padding: 0 0 0 0;\n",
              "      width: 32px;\n",
              "    }\n",
              "\n",
              "    .colab-df-convert:hover {\n",
              "      background-color: #E2EBFA;\n",
              "      box-shadow: 0px 1px 2px rgba(60, 64, 67, 0.3), 0px 1px 3px 1px rgba(60, 64, 67, 0.15);\n",
              "      fill: #174EA6;\n",
              "    }\n",
              "\n",
              "    [theme=dark] .colab-df-convert {\n",
              "      background-color: #3B4455;\n",
              "      fill: #D2E3FC;\n",
              "    }\n",
              "\n",
              "    [theme=dark] .colab-df-convert:hover {\n",
              "      background-color: #434B5C;\n",
              "      box-shadow: 0px 1px 3px 1px rgba(0, 0, 0, 0.15);\n",
              "      filter: drop-shadow(0px 1px 2px rgba(0, 0, 0, 0.3));\n",
              "      fill: #FFFFFF;\n",
              "    }\n",
              "  </style>\n",
              "\n",
              "      <script>\n",
              "        const buttonEl =\n",
              "          document.querySelector('#df-703cbabb-3a0a-4228-9b60-8bd083df779a button.colab-df-convert');\n",
              "        buttonEl.style.display =\n",
              "          google.colab.kernel.accessAllowed ? 'block' : 'none';\n",
              "\n",
              "        async function convertToInteractive(key) {\n",
              "          const element = document.querySelector('#df-703cbabb-3a0a-4228-9b60-8bd083df779a');\n",
              "          const dataTable =\n",
              "            await google.colab.kernel.invokeFunction('convertToInteractive',\n",
              "                                                     [key], {});\n",
              "          if (!dataTable) return;\n",
              "\n",
              "          const docLinkHtml = 'Like what you see? Visit the ' +\n",
              "            '<a target=\"_blank\" href=https://colab.research.google.com/notebooks/data_table.ipynb>data table notebook</a>'\n",
              "            + ' to learn more about interactive tables.';\n",
              "          element.innerHTML = '';\n",
              "          dataTable['output_type'] = 'display_data';\n",
              "          await google.colab.output.renderOutput(dataTable, element);\n",
              "          const docLink = document.createElement('div');\n",
              "          docLink.innerHTML = docLinkHtml;\n",
              "          element.appendChild(docLink);\n",
              "        }\n",
              "      </script>\n",
              "    </div>\n",
              "  </div>\n",
              "  "
            ]
          },
          "metadata": {},
          "execution_count": 79
        }
      ]
    },
    {
      "cell_type": "markdown",
      "source": [
        "<h3><span style=\"color:red\">Phase 2</span></h3>\n",
        "getting ids of questions and other attributes from question list page"
      ],
      "metadata": {
        "id": "pCw6lxyytTAE"
      }
    },
    {
      "cell_type": "code",
      "source": [
        "url0 = \"https://stackoverflow.com/questions\"\n",
        "url1 = \"https://stackoverflow.com/questions/17256602\"\n",
        "url2 = \"https://stackoverflow.com/questions/71792649\""
      ],
      "metadata": {
        "id": "o4JSWwR0mXd1"
      },
      "execution_count": null,
      "outputs": []
    },
    {
      "cell_type": "code",
      "source": [
        "def get_page_data(url):\n",
        "  res = requests.get(url)\n",
        "  soup = BeautifulSoup(res.text, \"html.parser\")\n",
        "  # for number of vies we need to extract container with vies and rid of label\n",
        "  question_block = soup.find(\"div\", attrs={\"class\":\"flex--item ws-nowrap mb8\"}).next.next.next.next.strip()\n",
        "  pos = question_block.find(\" \")\n",
        "  # for time stamp we need the attribute 'datetime' of the first tag 'time'\n",
        "  creation_stamp = soup.find(\"time\")[\"datetime\"]\n",
        "  votes = soup.find(\"div\", attrs={\"class\":\"js-vote-count flex--item d-flex fd-column ai-center fc-black-500 fs-title\"})[\"data-value\"]\n",
        "  answers = soup.find(\"h2\", attrs={\"class\":\"mb0\"})[\"data-answercount\"]\n",
        "  tags = soup.find(\"ul\", attrs={\"class\":\"ml0 list-ls-none js-post-tag-list-wrapper d-inline\"}).find_all(\"li\")\n",
        "  tags = list(map(lambda x: x.text, tags))\n",
        "  solved = soup.find(\"div\", attrs={\"itemprop\":\"acceptedAnswer\"})\n",
        "  solved = \"unsolved\" if solved is None else \"solved\"\n",
        "  comments =  len(soup.find_all(\"span\", attrs={\"class\":\"comment-copy\"}))\n",
        "  res = {}\n",
        "  res['time'] =  creation_stamp\n",
        "  res[\"tags\"] =  tags\n",
        "  res[\"comments\"] = comments\n",
        "  res[\"answers\"] = answers\n",
        "  res[\"views\"] = question_block[:pos]\n",
        "  res[\"votes\"] = votes\n",
        "  res[\"correctness\"] = solved\n",
        "  \n",
        "  return res\n"
      ],
      "metadata": {
        "id": "jfbZHMb4t3Aj"
      },
      "execution_count": null,
      "outputs": []
    },
    {
      "cell_type": "markdown",
      "source": [],
      "metadata": {
        "id": "iKieccOyK4EU"
      }
    },
    {
      "cell_type": "code",
      "source": [
        "get_page_data(url2)"
      ],
      "metadata": {
        "colab": {
          "base_uri": "https://localhost:8080/"
        },
        "id": "OvPEmnnHkfRy",
        "outputId": "cc046baa-ca39-4939-bdcf-ab17acdbd601"
      },
      "execution_count": null,
      "outputs": [
        {
          "output_type": "execute_result",
          "data": {
            "text/plain": [
              "{'time': '2022-04-08T06:37:23',\n",
              " 'tags': ['python', 'pytorch', 'attention-model'],\n",
              " 'comments': 0,\n",
              " 'answers': '0',\n",
              " 'views': '229',\n",
              " 'votes': '0',\n",
              " 'correctness': 'unsolved'}"
            ]
          },
          "metadata": {},
          "execution_count": 91
        }
      ]
    }
  ]
}